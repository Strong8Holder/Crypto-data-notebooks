{
 "cells": [
  { "cell_type": "markdown",
    "metadata": {},
    "source": [
      "# BTC vs NASDAQ (\\^IXIC)\\n",
      "Normalize both series to 100 at start, plot together, and compute 90-day rolling correlation."
    ]
  },
  { "cell_type": "code",
    "execution_count": null,
    "metadata": {},
    "outputs": [],
    "source": [
      "import pandas as pd, matplotlib.pyplot as plt, yfinance as yf\\n",
      "start = \"2022-01-01\"\\n",
      "btc = yf.download(\"BTC-USD\", start=start)[\"Close\"].rename(\"BTC\")\\n",
      "ixic = yf.download(\"^IXIC\", start=start)[\"Close\"].rename(\"NASDAQ\")\\n",
      "df = pd.concat([btc, ixic], axis=1).dropna()\\n",
      "\\n",
      "# Normalize to 100\\n",
      "norm = df / df.iloc[0] * 100\\n",
      "corr = df[\"BTC\"].rolling(90).corr(df[\"NASDAQ\"])\\n",
      "\\n",
      "plt.figure(figsize=(10,4))\\n",
      "plt.plot(norm.index, norm[\"BTC\"], label=\"BTC (norm=100)\")\\n",
      "plt.plot(norm.index, norm[\"NASDAQ\"], label=\"NASDAQ (norm=100)\")\\n",
      "plt.legend(); plt.title(\"BTC vs NASDAQ — normalized\")\\n",
      "plt.grid(True, alpha=0.3); plt.tight_layout(); plt.show()\\n",
      "\\n",
      "plt.figure(figsize=(10,3))\\n",
      "plt.plot(corr.index, corr)\\n",
      "plt.title(\"90-day rolling correlation (BTC, NASDAQ)\")\\n",
      "plt.axhline(0, color=\"gray\", lw=1)\\n",
      "plt.grid(True, alpha=0.3); plt.tight_layout(); plt.show()\\n"
    ]
  }
 ],
 "metadata": {
  "kernelspec": { "display_name": "Python 3", "language": "python", "name": "python3" },
  "language_info": { "name": "python" }
 },
 "nbformat": 4,
 "nbformat_minor": 5
}
