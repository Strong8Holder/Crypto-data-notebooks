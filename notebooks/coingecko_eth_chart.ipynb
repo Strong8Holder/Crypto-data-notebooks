{
 "cells": [
  {
   "cell_type": "markdown",
   "metadata": {},
   "source": [
    "# ETH Price via CoinGecko\\n",
    "Fetch daily ETH/USD prices for the last 180 days and plot a clean chart."
   ]
  },
  {
   "cell_type": "code",
   "execution_count": null,
   "metadata": {},
   "outputs": [],
   "source": [
    "import requests, pandas as pd, matplotlib.pyplot as plt, datetime as dt\\n",
    "\\n",
    "days = 180\\n",
    "url = f\"https://api.coingecko.com/api/v3/coins/ethereum/market_chart?vs_currency=usd&days={days}\"\\n",
    "r = requests.get(url, timeout=15)\\n",
    "r.raise_for_status()\\n",
    "data = r.json()[\"prices\"]  # [ [ms, price], ... ]\\n",
    "df = pd.DataFrame(data, columns=[\"ts\", \"price_usd\"])\\n",
    "df[\"date\"] = pd.to_datetime(df[\"ts\"], unit=\"ms\").dt.date\\n",
    "df = df.groupby(\"date\", as_index=False)[\"price_usd\"].last()\\n",
    "\\n",
    "plt.figure(figsize=(10,4))\\n",
    "plt.plot(df[\"date\"], df[\"price_usd\"])\\n",
    "plt.title(\"ETH / USD — last 180 days\")\\n",
    "plt.xlabel(\"Date\"); plt.ylabel(\"Price, USD\"); plt.grid(True, alpha=0.3)\\n",
    "plt.tight_layout(); plt.show()\\n"
   ]
  }
 ],
 "metadata": {
  "kernelspec": { "display_name": "Python 3", "language": "python", "name": "python3" },
  "language_info": { "name": "python" }
 },
 "nbformat": 4,
 "nbformat_minor": 5
}
