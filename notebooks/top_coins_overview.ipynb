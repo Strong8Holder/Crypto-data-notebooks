{
 "cells": [
  { "cell_type": "markdown",
    "metadata": {},
    "source": [
      "# Top Coins Overview via CoinGecko\\n",
      "Fetch top 25 coins by market cap and display a tidy table."
    ]
  },
  { "cell_type": "code",
    "execution_count": null,
    "metadata": {},
    "outputs": [],
    "source": [
      "import requests, pandas as pd\\n",
      "url = \"https://api.coingecko.com/api/v3/coins/markets\"\\n",
      "params = {\\n",
      "  \"vs_currency\": \"usd\",\\n",
      "  \"order\": \"market_cap_desc\",\\n",
      "  \"per_page\": 25,\\n",
      "  \"page\": 1,\\n",
      "  \"sparkline\": False\\n",
      "}\\n",
      "r = requests.get(url, params=params, timeout=15)\\n",
      "r.raise_for_status()\\n",
      "data = r.json()\\n",
      "cols = [\"market_cap_rank\",\"symbol\",\"name\",\"current_price\",\"market_cap\",\"price_change_percentage_24h\"]\\n",
      "df = pd.DataFrame([{k: d.get(k) for k in cols} for d in data])\\n",
      "df = df.sort_values(\"market_cap_rank\").reset_index(drop=True)\\n",
      "df"
    ]
  }
 ],
 "metadata": {
  "kernelspec": { "display_name": "Python 3", "language": "python", "name": "python3" },
  "language_info": { "name": "python" }
 },
 "nbformat": 4,
 "nbformat_minor": 5
}
